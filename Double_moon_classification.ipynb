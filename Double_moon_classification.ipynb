{
 "cells": [
  {
   "cell_type": "markdown",
   "metadata": {},
   "source": [
    "\n",
    "![title](Figure2-1.jpg)\n",
    "\n",
    "\n",
    "The image shows a pair of “moons” facing each other in an asymmetrically arranged manner. The moon labeled “Region A” is positioned symmetrically with respect to the y-axis, whereas the moon labeled “Region B” is displaced to the right of the y-axis by an amount equal to the radius r and below the x-axis by the distance d. The two moons have identical parameters: \n",
    "\n",
    "Radius of each moon, r = 10, \n",
    "\n",
    "Width of each moon, w = 6. \n",
    "\n",
    "The vertical distance d separating the two moons is adjustable; it is measured with respect to the x-axis, as indicated in the figure \n",
    "\n",
    "i) Increasingly positive values of d signify increased separation between the two moons; \n",
    "\n",
    "ii) Increasingly negative values of d signify the two moons’ coming closer to each other. \n",
    "\n",
    "The training sample consists of 1000 pairs of data points, with each pair consisting of one point picked from region A and another point picked from region B, both randomly. The test sample consists of 3,000 pairs of data points, again picked in a random manner. \n",
    "\n",
    "Tasks: \n",
    "\n",
    "Your task is to classify the dataset using SVM (Support Vector Machine) for some cases given below. Generate the dataset for each case and classify using different kernels (e.g. linear, polynomial, radial basis etc.) Show the decision boundary (Plotting the classified points using different color will be enough) \n",
    "\n",
    "Case 1: d = 0 \n",
    "\n",
    "Case 2: |d| = 1/2 * (radius of moon’s inner half-circle) and d is negative i.e. d is in the upper side of x-axis. \n",
    "\n",
    "Case 3: Increase d negatively such that both of the moons touch each other. \n",
    "\n",
    "Case 4: Both moons overlap each other \n",
    "\n",
    "Case 5: Add some noise in the training set "
   ]
  },
  {
   "cell_type": "code",
   "execution_count": 4,
   "metadata": {
    "collapsed": false
   },
   "outputs": [
    {
     "name": "stderr",
     "output_type": "stream",
     "text": [
      "/home/bhargavi/anaconda3/lib/python3.5/site-packages/ipykernel/__main__.py:29: VisibleDeprecationWarning: using a non-integer number instead of an integer will result in an error in the future\n",
      "/home/bhargavi/anaconda3/lib/python3.5/site-packages/ipykernel/__main__.py:30: VisibleDeprecationWarning: using a non-integer number instead of an integer will result in an error in the future\n"
     ]
    },
    {
     "data": {
      "image/png": "[encoded data removed]",
      "text/plain": [
       "<matplotlib.figure.Figure at 0x7f33e528fac8>"
      ]
     },
     "metadata": {},
     "output_type": "display_data"
    }
   ],
   "source": [
    "import numpy as np\n",
    "import matplotlib.pyplot as plt\n",
    "%matplotlib inline\n",
    "\n",
    "#Default parameters\n",
    "r=10\n",
    "d=1\n",
    "N=1000\n",
    "w=6\n",
    "\n",
    "#Generate region A\n",
    "x=np.random.uniform(-r-w/2,r+w/2,10000)\n",
    "y=np.random.uniform(0,r+w/2,10000)\n",
    "dist=np.sqrt(x*x+y*y)\n",
    "\n",
    "num=0\n",
    "i=0\n",
    "ind_list=[]\n",
    "while num<1000:\n",
    "    #select points inside circular region of width w\n",
    "    if dist[i]<r+w/2 and dist[i]>r-w/2:\n",
    "        num+=1\n",
    "        ind_list=np.append(ind_list,i)\n",
    "    i+=1\n",
    "\n",
    "x_up=np.array([])\n",
    "y_up=np.array([])\n",
    "for i in range(1000):\n",
    "    x_up= np.append(x_up,x[ind_list[i]])\n",
    "    y_up= np.append(y_up,y[ind_list[i]])\n",
    "    \n",
    "#Generate region B\n",
    "x_down=x_up+r\n",
    "y_down=-y_up-d\n",
    "\n",
    "#Plot data\n",
    "plt.scatter(x_down,y_down,color='b')\n",
    "plt.scatter(x_up,y_up,color='r')\n",
    "plt.xlabel('x')\n",
    "plt.ylabel('y')\n",
    "plt.show()"
   ]
  },
  {
   "cell_type": "code",
   "execution_count": 31,
   "metadata": {
    "collapsed": false
   },
   "outputs": [
    {
     "name": "stderr",
     "output_type": "stream",
     "text": [
      "/home/bhargavi/anaconda3/lib/python3.5/site-packages/sklearn/utils/validation.py:386: DeprecationWarning: Passing 1d arrays as data is deprecated in 0.17 and willraise ValueError in 0.19. Reshape your data either using X.reshape(-1, 1) if your data has a single feature or X.reshape(1, -1) if it contains a single sample.\n",
      "  DeprecationWarning)\n"
     ]
    },
    {
     "data": {
      "text/plain": [
       "array([ 1.])"
      ]
     },
     "execution_count": 31,
     "metadata": {},
     "output_type": "execute_result"
    }
   ],
   "source": [
    "#prepare data\n",
    "\n",
    "data0 = np.vstack((x_up,y_up))\n",
    "data1 = np.vstack((x_down,y_down))\n",
    "X= np.hstack((data0,data1))\n",
    "Y=np.hstack((np.zeros(np.shape(data0)[1]),np.ones(np.shape(data1)[1])))\n",
    "\n",
    "\n",
    "from sklearn.svm import SVC\n",
    "#classifier instantiation\n",
    "clf= SVC(kernel='linear')\n",
    "clf.fit(X.T,Y)\n",
    "clf.predict(np.array([4,-3]))"
   ]
  },
  {
   "cell_type": "code",
   "execution_count": 19,
   "metadata": {
    "collapsed": false
   },
   "outputs": [],
   "source": []
  },
  {
   "cell_type": "code",
   "execution_count": 23,
   "metadata": {
    "collapsed": false
   },
   "outputs": [
    {
     "data": {
      "text/plain": [
       "SVC(C=1.0, cache_size=200, class_weight=None, coef0=0.0,\n",
       "  decision_function_shape=None, degree=3, gamma='auto', kernel='linear',\n",
       "  max_iter=-1, probability=False, random_state=None, shrinking=True,\n",
       "  tol=0.001, verbose=False)"
      ]
     },
     "execution_count": 23,
     "metadata": {},
     "output_type": "execute_result"
    }
   ],
   "source": []
  },
  {
   "cell_type": "code",
   "execution_count": 26,
   "metadata": {
    "collapsed": false
   },
   "outputs": [
    {
     "name": "stderr",
     "output_type": "stream",
     "text": [
      "/home/bhargavi/anaconda3/lib/python3.5/site-packages/sklearn/utils/validation.py:386: DeprecationWarning: Passing 1d arrays as data is deprecated in 0.17 and willraise ValueError in 0.19. Reshape your data either using X.reshape(-1, 1) if your data has a single feature or X.reshape(1, -1) if it contains a single sample.\n",
      "  DeprecationWarning)\n"
     ]
    },
    {
     "data": {
      "text/plain": [
       "array([ 1.])"
      ]
     },
     "execution_count": 26,
     "metadata": {},
     "output_type": "execute_result"
    }
   ],
   "source": []
  },
  {
   "cell_type": "code",
   "execution_count": null,
   "metadata": {
    "collapsed": true
   },
   "outputs": [],
   "source": []
  }
 ],
 "metadata": {
  "anaconda-cloud": {},
  "kernelspec": {
   "display_name": "Python [Root]",
   "language": "python",
   "name": "Python [Root]"
  },
  "language_info": {
   "codemirror_mode": {
    "name": "ipython",
    "version": 3
   },
   "file_extension": ".py",
   "mimetype": "text/x-python",
   "name": "python",
   "nbconvert_exporter": "python",
   "pygments_lexer": "ipython3",
   "version": "3.5.2"
  }
 },
 "nbformat": 4,
 "nbformat_minor": 0
}
